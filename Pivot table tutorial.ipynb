{
 "cells": [
  {
   "cell_type": "code",
   "execution_count": 1,
   "id": "adb29eac",
   "metadata": {},
   "outputs": [],
   "source": [
    "import pandas as pd"
   ]
  },
  {
   "cell_type": "code",
   "execution_count": 2,
   "id": "250c05ca",
   "metadata": {},
   "outputs": [],
   "source": [
    "df = pd.read_csv(r'C:\\Users\\DELL\\OneDrive\\Desktop\\SaleData.csv')"
   ]
  },
  {
   "cell_type": "code",
   "execution_count": 18,
   "id": "f6b48db2",
   "metadata": {},
   "outputs": [
    {
     "name": "stdout",
     "output_type": "stream",
     "text": [
      "Empty DataFrame\n",
      "Columns: []\n",
      "Index: []\n"
     ]
    },
    {
     "name": "stderr",
     "output_type": "stream",
     "text": [
      "C:\\ProgramData\\Anaconda3\\lib\\site-packages\\pandas\\core\\apply.py:507: FutureWarning: Dropping invalid columns in DataFrameGroupBy.mean is deprecated. In a future version, a TypeError will be raised. Before calling .mean, select only columns which should be valid for the function.\n",
      "  return self._try_aggregate_string_function(obj, f, *self.args, **self.kwargs)\n"
     ]
    }
   ],
   "source": [
    "table = pd.pivot_table(df,index=[\"Region\",\"Manager\",\"SalesMan\"], values=\"Sale_amt\")\n",
    "print(table.query('Manager == [\"\"]'))"
   ]
  },
  {
   "cell_type": "code",
   "execution_count": 4,
   "id": "d5362c4f",
   "metadata": {},
   "outputs": [
    {
     "name": "stdout",
     "output_type": "stream",
     "text": [
      "Empty DataFrame\n",
      "Columns: []\n",
      "Index: [(Central, Douglas, John), (East, Douglas, Karen), (West, Douglas, Michael)]\n"
     ]
    }
   ],
   "source": [
    "print(table.query('Manager == [\"Douglas\"]'))"
   ]
  },
  {
   "cell_type": "code",
   "execution_count": 7,
   "id": "9be373eb",
   "metadata": {},
   "outputs": [],
   "source": [
    "import numpy as np"
   ]
  },
  {
   "cell_type": "code",
   "execution_count": 9,
   "id": "3d8c0695",
   "metadata": {},
   "outputs": [],
   "source": [
    "# Find the total sale amount region wise, manager wise, sales man wise. "
   ]
  },
  {
   "cell_type": "code",
   "execution_count": 8,
   "id": "f860a877",
   "metadata": {},
   "outputs": [
    {
     "name": "stdout",
     "output_type": "stream",
     "text": [
      "                                                                 sum  \\\n",
      "                                                            Sale_amt   \n",
      "Manager SalesMan                                                       \n",
      "Douglas John                         250.00   80,266.00   43,500.00    \n",
      "        Karen                       40,500.00   3,375.00   4,329.00    \n",
      "        Michael                               38,336.00   28,500.00    \n",
      "Hermann Luis         43,128.00   107,820.00   2,925.00   5,500.00...   \n",
      "        Shelli             25,000.00   5,616.00   625.00   2,457.00    \n",
      "        Sigal                     107,820.00   14,000.00   3,217.50    \n",
      "Martha  Alexander    113,810.00   30,000.00   30,000.00   41,930....   \n",
      "        Diana                                 14,500.00   21,600.00    \n",
      "        Steven        89,850.00   79,068.00   16,772.00   14,000.00    \n",
      "Timothy David        6,075.00   23,000.00   63,494.00   40,000.00...   \n",
      "        Stephen           67,088.00   3,500.00   375.00   17,100.00    \n",
      "All                  113,810.00   25,000.00   43,128.00   6,075.0...   \n",
      "\n",
      "                                                                      \n",
      "                                                               Units  \n",
      "Manager SalesMan                                                      \n",
      "Douglas John                                                   26787  \n",
      "        Karen                                                 811574  \n",
      "        Michael                                                 3257  \n",
      "Hermann Luis                                              3690501194  \n",
      "        Shelli                                               5096542  \n",
      "        Sigal                                                 902855  \n",
      "Martha  Alexander                                    956060351664462  \n",
      "        Diana                                                   2996  \n",
      "        Steven                                              75661428  \n",
      "Timothy David                                              274653807  \n",
      "        Stephen                                               567376  \n",
      "All                9550362756607590326090298135216286415966774468...  \n"
     ]
    }
   ],
   "source": [
    "table = pd.pivot_table(df,index=[\"Manager\",\"SalesMan\"],values=[\"Units\",\"Sale_amt\"],\n",
    "               aggfunc=[np.sum],fill_value=0,margins=True)\n",
    "print(table)"
   ]
  },
  {
   "cell_type": "code",
   "execution_count": 10,
   "id": "10f968a5",
   "metadata": {},
   "outputs": [],
   "source": [
    "# Find the item wise unit sold and the region wise total sale. "
   ]
  },
  {
   "cell_type": "code",
   "execution_count": 11,
   "id": "75820e65",
   "metadata": {},
   "outputs": [
    {
     "name": "stdout",
     "output_type": "stream",
     "text": [
      "                                  Units\n",
      "Region  Item                           \n",
      "Central Cell Phone                   27\n",
      "        Desk                         25\n",
      "        Home Theater   5028468780119428\n",
      "        Television    36759090676653714\n",
      "        Video Games            96505542\n",
      "East    Cell Phone               641596\n",
      "        Home Theater          606029814\n",
      "        Television                 9535\n",
      "        Video Games              167462\n",
      "West    Cell Phone                   76\n",
      "        Desk                          3\n",
      "        Home Theater                757\n",
      "        Television                 5632\n"
     ]
    }
   ],
   "source": [
    "print(pd.pivot_table(df,index=[\"Region\", \"Item\"], values=\"Units\", aggfunc=np.sum))"
   ]
  },
  {
   "cell_type": "code",
   "execution_count": 12,
   "id": "ff8dd26f",
   "metadata": {},
   "outputs": [
    {
     "name": "stdout",
     "output_type": "stream",
     "text": [
      "                                                  Sale_amt\n",
      "Region                                                    \n",
      "Central    25,000.00   43,128.00   6,075.00   89,850.00...\n",
      "East       113,810.00   30,000.00   30,000.00   14,500....\n",
      "West       67,088.00   38,336.00   3,500.00   375.00   ...\n"
     ]
    }
   ],
   "source": [
    "table = pd.pivot_table(df,index=\"Region\",values=\"Sale_amt\", aggfunc = np.sum)\n",
    "print(table)"
   ]
  },
  {
   "cell_type": "code",
   "execution_count": 13,
   "id": "8adb6677",
   "metadata": {},
   "outputs": [],
   "source": [
    "# Count the manager wise sale and mean value of sale amount and also display the sum of all sale amount at the bottom"
   ]
  },
  {
   "cell_type": "code",
   "execution_count": 14,
   "id": "f050df61",
   "metadata": {},
   "outputs": [
    {
     "name": "stdout",
     "output_type": "stream",
     "text": [
      "             len\n",
      "        Sale_amt\n",
      "Manager         \n",
      "Douglas        8\n",
      "Hermann       12\n",
      "Martha        14\n",
      "Timothy        9\n"
     ]
    },
    {
     "name": "stderr",
     "output_type": "stream",
     "text": [
      "C:\\ProgramData\\Anaconda3\\lib\\site-packages\\pandas\\core\\groupby\\generic.py:979: FutureWarning: Dropping invalid columns in DataFrameGroupBy.mean is deprecated. In a future version, a TypeError will be raised. Before calling .mean, select only columns which should be valid for the function.\n",
      "  result = op.agg()\n"
     ]
    }
   ],
   "source": [
    "print(pd.pivot_table(df,index=[\"Manager\"],values=[\"Sale_amt\"],aggfunc=[np.mean,len]))"
   ]
  },
  {
   "cell_type": "code",
   "execution_count": 15,
   "id": "bf666683",
   "metadata": {},
   "outputs": [
    {
     "name": "stdout",
     "output_type": "stream",
     "text": [
      "                                                                 sum  \\\n",
      "                                                            Sale_amt   \n",
      "Manager SalesMan                                                       \n",
      "Douglas John                         250.00   80,266.00   43,500.00    \n",
      "        Karen                       40,500.00   3,375.00   4,329.00    \n",
      "        Michael                               38,336.00   28,500.00    \n",
      "Hermann Luis         43,128.00   107,820.00   2,925.00   5,500.00...   \n",
      "        Shelli             25,000.00   5,616.00   625.00   2,457.00    \n",
      "        Sigal                     107,820.00   14,000.00   3,217.50    \n",
      "Martha  Alexander    113,810.00   30,000.00   30,000.00   41,930....   \n",
      "        Diana                                 14,500.00   21,600.00    \n",
      "        Steven        89,850.00   79,068.00   16,772.00   14,000.00    \n",
      "Timothy David        6,075.00   23,000.00   63,494.00   40,000.00...   \n",
      "        Stephen           67,088.00   3,500.00   375.00   17,100.00    \n",
      "All                  113,810.00   25,000.00   43,128.00   6,075.0...   \n",
      "\n",
      "                                                                      \n",
      "                                                               Units  \n",
      "Manager SalesMan                                                      \n",
      "Douglas John                                                   26787  \n",
      "        Karen                                                 811574  \n",
      "        Michael                                                 3257  \n",
      "Hermann Luis                                              3690501194  \n",
      "        Shelli                                               5096542  \n",
      "        Sigal                                                 902855  \n",
      "Martha  Alexander                                    956060351664462  \n",
      "        Diana                                                   2996  \n",
      "        Steven                                              75661428  \n",
      "Timothy David                                              274653807  \n",
      "        Stephen                                               567376  \n",
      "All                9550362756607590326090298135216286415966774468...  \n"
     ]
    }
   ],
   "source": [
    "table = pd.pivot_table(df,index=[\"Manager\",\"SalesMan\"],values=[\"Units\",\"Sale_amt\"],\n",
    "               aggfunc=[np.sum],fill_value=0,margins=True)\n",
    "print(table)"
   ]
  },
  {
   "cell_type": "code",
   "execution_count": 16,
   "id": "05f03f01",
   "metadata": {},
   "outputs": [],
   "source": [
    "# Find the total sale amount region wise, manager wise, sales man wise where Manager = \"Timothy\""
   ]
  },
  {
   "cell_type": "code",
   "execution_count": 17,
   "id": "f33cde3d",
   "metadata": {},
   "outputs": [
    {
     "name": "stdout",
     "output_type": "stream",
     "text": [
      "Empty DataFrame\n",
      "Columns: []\n",
      "Index: [(Central, Timothy, David), (West, Timothy, Stephen)]\n"
     ]
    },
    {
     "name": "stderr",
     "output_type": "stream",
     "text": [
      "C:\\ProgramData\\Anaconda3\\lib\\site-packages\\pandas\\core\\apply.py:507: FutureWarning: Dropping invalid columns in DataFrameGroupBy.mean is deprecated. In a future version, a TypeError will be raised. Before calling .mean, select only columns which should be valid for the function.\n",
      "  return self._try_aggregate_string_function(obj, f, *self.args, **self.kwargs)\n"
     ]
    }
   ],
   "source": [
    "table = pd.pivot_table(df,index=[\"Region\",\"Manager\",\"SalesMan\"], values=\"Sale_amt\")\n",
    "print(table.query('Manager == [\"Timothy\"]'))"
   ]
  },
  {
   "cell_type": "code",
   "execution_count": null,
   "id": "6b7c0683",
   "metadata": {},
   "outputs": [],
   "source": []
  }
 ],
 "metadata": {
  "kernelspec": {
   "display_name": "Python 3 (ipykernel)",
   "language": "python",
   "name": "python3"
  },
  "language_info": {
   "codemirror_mode": {
    "name": "ipython",
    "version": 3
   },
   "file_extension": ".py",
   "mimetype": "text/x-python",
   "name": "python",
   "nbconvert_exporter": "python",
   "pygments_lexer": "ipython3",
   "version": "3.9.7"
  }
 },
 "nbformat": 4,
 "nbformat_minor": 5
}
